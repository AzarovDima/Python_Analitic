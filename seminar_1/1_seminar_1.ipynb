{
 "cells": [
  {
   "cell_type": "markdown",
   "id": "fca01570",
   "metadata": {},
   "source": [
    "## Соедините два словаря в один\n"
   ]
  },
  {
   "cell_type": "code",
   "execution_count": 1,
   "id": "f0e1ee02",
   "metadata": {},
   "outputs": [],
   "source": [
    "dict1 = {'One': 1, 'Two': 2, 'Three': 3}\n",
    "dict2 = {'Four': 4, 'Five': 5, 'Six': 6}"
   ]
  },
  {
   "cell_type": "code",
   "execution_count": 2,
   "id": "ef62ff0c",
   "metadata": {},
   "outputs": [
    {
     "data": {
      "text/plain": [
       "{'One': 1, 'Two': 2, 'Three': 3, 'Four': 4, 'Five': 5, 'Six': 6}"
      ]
     },
     "execution_count": 2,
     "metadata": {},
     "output_type": "execute_result"
    }
   ],
   "source": [
    "dict3 = dict1 | dict2\n",
    "dict3"
   ]
  },
  {
   "cell_type": "code",
   "execution_count": 3,
   "id": "8edd3fc1",
   "metadata": {},
   "outputs": [
    {
     "data": {
      "text/plain": [
       "{'One': 1, 'Two': 2, 'Three': 3, 'Four': 4, 'Five': 5, 'Six': 6}"
      ]
     },
     "execution_count": 3,
     "metadata": {},
     "output_type": "execute_result"
    }
   ],
   "source": [
    "dict1.update(dict2)\n",
    "dict1"
   ]
  },
  {
   "cell_type": "markdown",
   "id": "980d8be0",
   "metadata": {},
   "source": [
    "## Напишите функцию, которая на вход принимает два словаря и возвращает один объединенный словарь\n"
   ]
  },
  {
   "cell_type": "code",
   "execution_count": 4,
   "id": "681e5c88",
   "metadata": {},
   "outputs": [
    {
     "data": {
      "text/plain": [
       "{'One': 1, 'Two': 2, 'Three': 3, 'Four': 4, 'Five': 5, 'Six': 6}"
      ]
     },
     "execution_count": 4,
     "metadata": {},
     "output_type": "execute_result"
    }
   ],
   "source": [
    "def new_dict(d1: dict, d2: dict) -> dict:\n",
    "    d1.update(d2)\n",
    "    return d1\n",
    "\n",
    "new_dict(dict1, dict2)\n"
   ]
  },
  {
   "cell_type": "markdown",
   "id": "ad8a0bf9",
   "metadata": {},
   "source": [
    "## Напишите функцию, которая из двух списков, делает один словарь, где элементы из первого списка - ключи, а элементы из второго списка - значения\n"
   ]
  },
  {
   "cell_type": "markdown",
   "id": "34b58ca9",
   "metadata": {},
   "source": [
    "Используйте аннотирование типов"
   ]
  },
  {
   "cell_type": "markdown",
   "id": "d5e00cca",
   "metadata": {},
   "source": [
    "### 2.1 Используя цикл for"
   ]
  },
  {
   "cell_type": "code",
   "execution_count": 5,
   "id": "a99d0f29",
   "metadata": {},
   "outputs": [],
   "source": [
    "keys = ['Ones', 'Two', 'Three']"
   ]
  },
  {
   "cell_type": "code",
   "execution_count": 6,
   "id": "db3d0b74",
   "metadata": {},
   "outputs": [],
   "source": [
    "values = [1, 2, 3]"
   ]
  },
  {
   "cell_type": "code",
   "execution_count": 7,
   "id": "1f04debf",
   "metadata": {},
   "outputs": [],
   "source": [
    "my_dict = {}"
   ]
  },
  {
   "cell_type": "code",
   "execution_count": 8,
   "id": "1d2f66ff",
   "metadata": {},
   "outputs": [],
   "source": [
    "for i in range(len(keys)):\n",
    "    my_dict[keys[i]] = values[i]"
   ]
  },
  {
   "cell_type": "code",
   "execution_count": 9,
   "id": "5fcd68e9",
   "metadata": {},
   "outputs": [
    {
     "data": {
      "text/plain": [
       "{'Ones': 1, 'Two': 2, 'Three': 3}"
      ]
     },
     "execution_count": 9,
     "metadata": {},
     "output_type": "execute_result"
    }
   ],
   "source": [
    "my_dict"
   ]
  },
  {
   "cell_type": "markdown",
   "id": "3c9c49dc",
   "metadata": {},
   "source": [
    "### Используя dict comprehensions"
   ]
  },
  {
   "cell_type": "code",
   "execution_count": 10,
   "id": "34284403",
   "metadata": {},
   "outputs": [],
   "source": [
    "my_dict_2 = {keys[i]: values[i] for i in range(len(keys))}"
   ]
  },
  {
   "cell_type": "code",
   "execution_count": 11,
   "id": "6cdf5fdf",
   "metadata": {},
   "outputs": [
    {
     "data": {
      "text/plain": [
       "{'Ones': 1, 'Two': 2, 'Three': 3}"
      ]
     },
     "execution_count": 11,
     "metadata": {},
     "output_type": "execute_result"
    }
   ],
   "source": [
    "my_dict_3 = dict(zip(keys, values))\n",
    "my_dict_3"
   ]
  },
  {
   "cell_type": "markdown",
   "id": "b549572a",
   "metadata": {},
   "source": [
    "## Извлеките только два ключа name и age из представленного словаря"
   ]
  },
  {
   "attachments": {
    "image.png": {
     "image/png": "[encoded data removed]"
    }
   },
   "cell_type": "markdown",
   "id": "07b0d8b2",
   "metadata": {},
   "source": [
    "![image.png](attachment:image.png)"
   ]
  },
  {
   "cell_type": "code",
   "execution_count": 12,
   "id": "50d98ecb",
   "metadata": {},
   "outputs": [],
   "source": [
    "client_dict = {\n",
    "    \"name\": \"John\",\n",
    "    \"age\": 25,\n",
    "    \"salary\": 500000,\n",
    "    \"city\": \"Moscow\"\n",
    "}"
   ]
  },
  {
   "cell_type": "code",
   "execution_count": 13,
   "id": "ca126a14",
   "metadata": {},
   "outputs": [],
   "source": [
    "keys = [\"name\", \"age\", 'city']"
   ]
  },
  {
   "cell_type": "code",
   "execution_count": 14,
   "id": "7a754be4",
   "metadata": {},
   "outputs": [],
   "source": [
    "def insert_key(dic: dict, key: list) -> dict:\n",
    "    new_dict = dict()\n",
    "    for k, v in dic.items():\n",
    "        if k in key:\n",
    "            new_dict[k] = v\n",
    "    return new_dict"
   ]
  },
  {
   "cell_type": "code",
   "execution_count": 15,
   "id": "b45424bf",
   "metadata": {},
   "outputs": [
    {
     "data": {
      "text/plain": [
       "{'name': 'John', 'age': 25, 'city': 'Moscow'}"
      ]
     },
     "execution_count": 15,
     "metadata": {},
     "output_type": "execute_result"
    }
   ],
   "source": [
    "insert_key(client_dict, keys)"
   ]
  },
  {
   "cell_type": "code",
   "execution_count": 16,
   "id": "28908b37",
   "metadata": {},
   "outputs": [],
   "source": [
    "new_dict_1 = {k: v for k, v in client_dict.items() if k in keys}"
   ]
  },
  {
   "cell_type": "code",
   "execution_count": 17,
   "id": "83af7f2d",
   "metadata": {},
   "outputs": [
    {
     "data": {
      "text/plain": [
       "{'name': 'John', 'age': 25, 'city': 'Moscow'}"
      ]
     },
     "execution_count": 17,
     "metadata": {},
     "output_type": "execute_result"
    }
   ],
   "source": [
    "new_dict_1"
   ]
  },
  {
   "attachments": {
    "image.png": {
     "image/png": "[encoded data removed]"
    }
   },
   "cell_type": "markdown",
   "id": "cb03e8af",
   "metadata": {},
   "source": [
    "![image.png](attachment:image.png)"
   ]
  },
  {
   "cell_type": "code",
   "execution_count": 18,
   "id": "ef84d301",
   "metadata": {},
   "outputs": [],
   "source": [
    "import random"
   ]
  },
  {
   "cell_type": "code",
   "execution_count": 19,
   "id": "f8c00c11",
   "metadata": {},
   "outputs": [],
   "source": [
    "number = random.randint(0, 101)"
   ]
  },
  {
   "cell_type": "code",
   "execution_count": 20,
   "id": "5ececfe4",
   "metadata": {},
   "outputs": [
    {
     "data": {
      "text/plain": [
       "[14, 14, 14, 14, 14]"
      ]
     },
     "execution_count": 20,
     "metadata": {},
     "output_type": "execute_result"
    }
   ],
   "source": [
    "lst_1 = [number for i in range(5)]\n",
    "lst_1"
   ]
  },
  {
   "cell_type": "code",
   "execution_count": 21,
   "id": "3daf38f7",
   "metadata": {},
   "outputs": [
    {
     "data": {
      "text/plain": [
       "[6, 13, 11, 90, 82]"
      ]
     },
     "execution_count": 21,
     "metadata": {},
     "output_type": "execute_result"
    }
   ],
   "source": [
    "random.seed(200008)\n",
    "lst_2 = [random.randint(0,101) for i in range(5)]\n",
    "lst_2"
   ]
  },
  {
   "cell_type": "code",
   "execution_count": 22,
   "id": "26355681",
   "metadata": {},
   "outputs": [],
   "source": [
    "from random import randint, seed"
   ]
  },
  {
   "cell_type": "code",
   "execution_count": 23,
   "id": "2735e2d9",
   "metadata": {},
   "outputs": [
    {
     "data": {
      "text/plain": [
       "[81, 14, 3, 94, 35]"
      ]
     },
     "execution_count": 23,
     "metadata": {},
     "output_type": "execute_result"
    }
   ],
   "source": [
    "seed(42)\n",
    "dt = [randint(0,101) for i in range(5)]\n",
    "dt"
   ]
  },
  {
   "attachments": {
    "image.png": {
     "image/png": "[encoded data removed]"
    }
   },
   "cell_type": "markdown",
   "id": "f9412493",
   "metadata": {},
   "source": [
    "![image.png](attachment:image.png)"
   ]
  },
  {
   "cell_type": "code",
   "execution_count": 24,
   "id": "7d22516f",
   "metadata": {},
   "outputs": [],
   "source": [
    "import time\n",
    "import random"
   ]
  },
  {
   "cell_type": "code",
   "execution_count": 25,
   "id": "71467a4e",
   "metadata": {},
   "outputs": [],
   "source": [
    "def sempple_time_gener(data: list):\n",
    "    last_time = None\n",
    "    for item in data:\n",
    "        current_time = time.time()\n",
    "        if last_time:\n",
    "            delta = current_time - last_time\n",
    "        else:\n",
    "            delta = 0\n",
    "        last_time = time.time()\n",
    "        yield (delta, item)"
   ]
  },
  {
   "cell_type": "code",
   "execution_count": 26,
   "id": "2a46763a",
   "metadata": {},
   "outputs": [
    {
     "name": "stdout",
     "output_type": "stream",
     "text": [
      "(0, 81)\n",
      "(2.0015692710876465, 14)\n",
      "(2.0115153789520264, 3)\n",
      "(2.0147509574890137, 94)\n",
      "(2.0019989013671875, 35)\n"
     ]
    }
   ],
   "source": [
    "for obj in sempple_time_gener(dt):\n",
    "    print(obj)\n",
    "    time.sleep(2)"
   ]
  },
  {
   "cell_type": "code",
   "execution_count": 27,
   "id": "ca78689f",
   "metadata": {},
   "outputs": [],
   "source": [
    "gener = (item for item in dt)"
   ]
  },
  {
   "cell_type": "code",
   "execution_count": 28,
   "id": "73fcd89e",
   "metadata": {},
   "outputs": [
    {
     "name": "stdout",
     "output_type": "stream",
     "text": [
      "81\n"
     ]
    }
   ],
   "source": [
    "print(next(gener))"
   ]
  },
  {
   "cell_type": "code",
   "execution_count": null,
   "id": "c933b24d",
   "metadata": {},
   "outputs": [],
   "source": []
  },
  {
   "cell_type": "code",
   "execution_count": null,
   "id": "867dbc63",
   "metadata": {},
   "outputs": [],
   "source": []
  }
 ],
 "metadata": {
  "kernelspec": {
   "display_name": "Python 3 (ipykernel)",
   "language": "python",
   "name": "python3"
  },
  "language_info": {
   "codemirror_mode": {
    "name": "ipython",
    "version": 3
   },
   "file_extension": ".py",
   "mimetype": "text/x-python",
   "name": "python",
   "nbconvert_exporter": "python",
   "pygments_lexer": "ipython3",
   "version": "3.10.9"
  }
 },
 "nbformat": 4,
 "nbformat_minor": 5
}
