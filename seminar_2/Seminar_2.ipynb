{
 "cells": [
  {
   "cell_type": "code",
   "execution_count": 1,
   "id": "bb86b75a",
   "metadata": {},
   "outputs": [],
   "source": [
    "import pandas as pd"
   ]
  },
  {
   "cell_type": "code",
   "execution_count": 3,
   "id": "ea10e393",
   "metadata": {},
   "outputs": [
    {
     "ename": "SyntaxError",
     "evalue": "invalid syntax (3818300756.py, line 1)",
     "output_type": "error",
     "traceback": [
      "\u001b[1;36m  Cell \u001b[1;32mIn[3], line 1\u001b[1;36m\u001b[0m\n\u001b[1;33m    df = pd.read_csv(/laptop_price.csv)\u001b[0m\n\u001b[1;37m                     ^\u001b[0m\n\u001b[1;31mSyntaxError\u001b[0m\u001b[1;31m:\u001b[0m invalid syntax\n"
     ]
    }
   ],
   "source": []
  },
  {
   "cell_type": "code",
   "execution_count": null,
   "id": "b43f775b",
   "metadata": {},
   "outputs": [],
   "source": [
    "df = pd.read_csv('./laptop_price.csv', encoding='latin-1')"
   ]
  },
  {
   "cell_type": "code",
   "execution_count": null,
   "id": "4b3d9b8f",
   "metadata": {},
   "outputs": [],
   "source": [
    "df.head()"
   ]
  },
  {
   "cell_type": "code",
   "execution_count": null,
   "id": "8e6087aa",
   "metadata": {},
   "outputs": [],
   "source": [
    "df.info()"
   ]
  },
  {
   "cell_type": "code",
   "execution_count": null,
   "id": "34e764e5",
   "metadata": {},
   "outputs": [],
   "source": [
    "df.isnull().sum()"
   ]
  },
  {
   "cell_type": "code",
   "execution_count": null,
   "id": "ac2ea42b",
   "metadata": {},
   "outputs": [],
   "source": [
    "df.describe()"
   ]
  },
  {
   "cell_type": "code",
   "execution_count": null,
   "id": "eb53f516",
   "metadata": {},
   "outputs": [],
   "source": [
    "df.describe(include=['object'])"
   ]
  },
  {
   "cell_type": "markdown",
   "id": "fa7fc1c4",
   "metadata": {},
   "source": [
    "Ответьте на несколько вопросов\n",
    "3.1 Ноутбуков от какой компании больше всего в наборе данных?\n",
    "3.2 Какая минимальная и максимальная стоимость у ноутбуков в данных?\n",
    "3.3 Какой самый дорогой ноутбук в данных?\n",
    "Выведите все характеристики только по этому ноутбуку\n",
    "Если таких ноутбуков несколько, то выводите их всех"
   ]
  },
  {
   "cell_type": "code",
   "execution_count": null,
   "id": "e2802dbf",
   "metadata": {},
   "outputs": [],
   "source": [
    "df['Company'].value_counts()"
   ]
  },
  {
   "cell_type": "code",
   "execution_count": null,
   "id": "c4f21aa4",
   "metadata": {},
   "outputs": [],
   "source": [
    "df['Price_euros'].max()"
   ]
  },
  {
   "cell_type": "code",
   "execution_count": null,
   "id": "dcf9d735",
   "metadata": {},
   "outputs": [],
   "source": [
    "df['Price_euros'].min()"
   ]
  },
  {
   "cell_type": "code",
   "execution_count": null,
   "id": "28428afc",
   "metadata": {},
   "outputs": [],
   "source": [
    "max_price = df['Price_euros'].max()\n"
   ]
  },
  {
   "cell_type": "code",
   "execution_count": null,
   "id": "0a126540",
   "metadata": {},
   "outputs": [],
   "source": [
    "df[df['Price_euros'] == max_price]"
   ]
  },
  {
   "cell_type": "code",
   "execution_count": null,
   "id": "4c0feb9d",
   "metadata": {},
   "outputs": [],
   "source": [
    "df[df['Price_euros'] >= df['Price_euros'].mean()]"
   ]
  },
  {
   "cell_type": "markdown",
   "id": "ed2846bb",
   "metadata": {},
   "source": [
    "4.1 Найдите ноутбуки с самой маленькой диагональю в данных?\n",
    "Выведите только следующие характеристики:\n",
    "Компания\n",
    "Типа ноутбука\n",
    "Диагональ\n",
    "Стоимость\n",
    "Если таких ноутбуков несколько, то выводите их всех\n",
    "4.2 Сколько стоит самый дорогой ноутбук у компании HP?\n",
    "4.3 Как много ноутбуков Ultrabook с 8GB RAM?\n",
    "Найдите сколько таких ультрабуков с 8GB ОЗУ в процентном соотношении относительно всех ультрабуков"
   ]
  },
  {
   "cell_type": "code",
   "execution_count": null,
   "id": "1d98d77c",
   "metadata": {},
   "outputs": [],
   "source": [
    "df.head(1)"
   ]
  },
  {
   "cell_type": "code",
   "execution_count": null,
   "id": "1096db64",
   "metadata": {
    "scrolled": true
   },
   "outputs": [],
   "source": [
    "a = df[df['Inches'] == df['Inches'].min()][['Company', 'TypeName', 'Inches', 'Price_euros']]\n",
    "a"
   ]
  },
  {
   "cell_type": "code",
   "execution_count": null,
   "id": "76150ad8",
   "metadata": {},
   "outputs": [],
   "source": [
    "df[df['Company'] == 'HP'].sort_values('Price_euros', ascending = False).head(1)"
   ]
  },
  {
   "cell_type": "code",
   "execution_count": null,
   "id": "b56120c4",
   "metadata": {},
   "outputs": [],
   "source": [
    "df[df['Company'] == 'HP'].sort_values('Price_euros', ascending = False).loc[749]"
   ]
  },
  {
   "cell_type": "code",
   "execution_count": null,
   "id": "e562650f",
   "metadata": {},
   "outputs": [],
   "source": [
    "df.shape[0]"
   ]
  },
  {
   "cell_type": "markdown",
   "id": "2669bf15",
   "metadata": {},
   "source": [
    " Как много ноутбуков Ultrabook с 8GB RAM? Найдите сколько таких ультрабуков с 8GB ОЗУ в процентном соотношении относительно всех ультрабуков"
   ]
  },
  {
   "cell_type": "code",
   "execution_count": null,
   "id": "c55bdff5",
   "metadata": {},
   "outputs": [],
   "source": [
    "df.head(1)"
   ]
  },
  {
   "cell_type": "code",
   "execution_count": null,
   "id": "6c4e51c5",
   "metadata": {},
   "outputs": [],
   "source": [
    "number_8_RAM = df[(df['TypeName'] == 'Ultrabook') & (df['Ram'] == '8GB')].shape[0]\n",
    "number_8_RAM"
   ]
  },
  {
   "cell_type": "code",
   "execution_count": null,
   "id": "d2e240f2",
   "metadata": {},
   "outputs": [],
   "source": [
    "number_Ultra = df[df['TypeName'] == 'Ultrabook'].shape[0]\n",
    "number_Ultra"
   ]
  },
  {
   "cell_type": "code",
   "execution_count": null,
   "id": "d31d4ef4",
   "metadata": {},
   "outputs": [],
   "source": [
    "number_8_RAM / number_Ultra * 100"
   ]
  },
  {
   "cell_type": "code",
   "execution_count": null,
   "id": "5e9c2e4c",
   "metadata": {},
   "outputs": [],
   "source": [
    "df[df['TypeName'] == 'Ultrabook']['Ram'].value_counts(normalize=True)"
   ]
  },
  {
   "cell_type": "code",
   "execution_count": null,
   "id": "3c5d72ca",
   "metadata": {},
   "outputs": [],
   "source": [
    "df[df['TypeName'] == 'Ultrabook']['Ram'].value_counts()"
   ]
  },
  {
   "cell_type": "markdown",
   "id": "29bee8b5",
   "metadata": {},
   "source": [
    "5.2 Выберите ноутбук клиенту\n",
    "Клиент хочет подобрать ноутбук от MSI, с видеокартой Nvidia GeForce GTX 1050 Ti и главное не с диагональю 15.6. В какой ценовой категории вышли подобные ноутбуки?\n"
   ]
  },
  {
   "cell_type": "code",
   "execution_count": null,
   "id": "42e03d26",
   "metadata": {
    "scrolled": false
   },
   "outputs": [],
   "source": [
    "df.head(1)"
   ]
  },
  {
   "cell_type": "code",
   "execution_count": null,
   "id": "32264a46",
   "metadata": {
    "scrolled": true
   },
   "outputs": [],
   "source": [
    "number_nit_incges = df[\n",
    "    (df['Company'] == 'MSI') & \n",
    "    (df['Gpu'] == 'Nvidia GeForce GTX 1050 Ti') & \n",
    "    ~(df['Inches'] == 15.6)\n",
    "]\n",
    "number_nit_incges"
   ]
  },
  {
   "cell_type": "code",
   "execution_count": null,
   "id": "5bfb8e32",
   "metadata": {},
   "outputs": [],
   "source": [
    "result = number_nit_incges['Price_euros'].min(), number_nit_incges['Price_euros'].max()\n",
    "result"
   ]
  },
  {
   "cell_type": "markdown",
   "id": "583adce2",
   "metadata": {},
   "source": [
    "Клиент хочет подобрать ноутбук с 8GB или 16GB ОЗУ на Windows 10 в стоимости до 500 евро, сколько у него вариантов?\n"
   ]
  },
  {
   "cell_type": "code",
   "execution_count": null,
   "id": "a68e3fbd",
   "metadata": {},
   "outputs": [],
   "source": [
    "result_next = df[(df['TypeName'] == 'Notebook') &\n",
    "  ((df['Ram'] == '8GB') |(df['Ram'] == '16GB')) &\n",
    "  (df['OpSys'] == 'Windows 10') &\n",
    "  (df['Price_euros'] <= 500)\n",
    "  ]"
   ]
  },
  {
   "cell_type": "code",
   "execution_count": null,
   "id": "d9043076",
   "metadata": {},
   "outputs": [],
   "source": [
    "result_next.shape[0]"
   ]
  },
  {
   "cell_type": "code",
   "execution_count": null,
   "id": "1091b638",
   "metadata": {},
   "outputs": [],
   "source": [
    "df.TypeName.unique()"
   ]
  },
  {
   "cell_type": "markdown",
   "id": "31ddb0f1",
   "metadata": {},
   "source": [
    "В среднем дешевле ноутбуки с CPU Intel Core i7 7700HQ 2.8GHz или с Intel Core i7 7600U 2.8GHz?"
   ]
  },
  {
   "cell_type": "code",
   "execution_count": null,
   "id": "1335c555",
   "metadata": {},
   "outputs": [],
   "source": [
    "number_1 = df[df['Cpu'] == 'Intel Core i7 7700HQ 2.8GHz']['Price_euros'].mean()"
   ]
  },
  {
   "cell_type": "code",
   "execution_count": null,
   "id": "b0454ff0",
   "metadata": {},
   "outputs": [],
   "source": [
    "number_2 = df[df['Cpu'] == 'Intel Core i7 7600U 2.8GHz']['Price_euros'].mean()"
   ]
  },
  {
   "cell_type": "code",
   "execution_count": null,
   "id": "0350702e",
   "metadata": {},
   "outputs": [],
   "source": [
    "number_1, number_2"
   ]
  },
  {
   "cell_type": "code",
   "execution_count": null,
   "id": "2b00eeaf",
   "metadata": {},
   "outputs": [],
   "source": []
  }
 ],
 "metadata": {
  "kernelspec": {
   "display_name": "Python 3 (ipykernel)",
   "language": "python",
   "name": "python3"
  },
  "language_info": {
   "codemirror_mode": {
    "name": "ipython",
    "version": 3
   },
   "file_extension": ".py",
   "mimetype": "text/x-python",
   "name": "python",
   "nbconvert_exporter": "python",
   "pygments_lexer": "ipython3",
   "version": "3.10.9"
  }
 },
 "nbformat": 4,
 "nbformat_minor": 5
}
